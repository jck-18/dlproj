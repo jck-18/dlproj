{
 "cells": [
  {
   "cell_type": "markdown",
   "id": "1621f69b",
   "metadata": {},
   "source": [
    "DATA PREPROCESSING"
   ]
  },
  {
   "cell_type": "code",
   "execution_count": 2,
   "id": "9090c6d5",
   "metadata": {},
   "outputs": [],
   "source": [
    "import pandas as pd\n",
    "import numpy as np\n",
    "import re\n",
    "import string\n",
    "import nltk\n",
    "from nltk.tokenize import sent_tokenize, word_tokenize\n",
    "from sklearn.preprocessing import MinMaxScaler\n",
    "\n"
   ]
  },
  {
   "cell_type": "code",
   "execution_count": 4,
   "id": "1fba13cf",
   "metadata": {},
   "outputs": [],
   "source": [
    "import nltk\n",
    "nltk.data.path.append(\"C:/Users/YourName/AppData/Roaming/nltk_data\")\n"
   ]
  },
  {
   "cell_type": "code",
   "execution_count": 6,
   "id": "c1e46465",
   "metadata": {},
   "outputs": [
    {
     "name": "stdout",
     "output_type": "stream",
     "text": [
      "Index(['essay_id', 'essay_set', 'essay', 'rater1_domain1', 'rater2_domain1',\n",
      "       'rater3_domain1', 'domain1_score', 'rater1_domain2', 'rater2_domain2',\n",
      "       'domain2_score', 'rater1_trait1', 'rater1_trait2', 'rater1_trait3',\n",
      "       'rater1_trait4', 'rater1_trait5', 'rater1_trait6', 'rater2_trait1',\n",
      "       'rater2_trait2', 'rater2_trait3', 'rater2_trait4', 'rater2_trait5',\n",
      "       'rater2_trait6', 'rater3_trait1', 'rater3_trait2', 'rater3_trait3',\n",
      "       'rater3_trait4', 'rater3_trait5', 'rater3_trait6'],\n",
      "      dtype='object')\n",
      "(12976, 28)\n"
     ]
    }
   ],
   "source": [
    "# Load the original dataset\n",
    "df = pd.read_csv(r\"D:\\dlproject\\dlproj\\data\\raw\\training_set_rel3.csv\", sep='\\t')\n",
    "\n",
    "# Drop unnecessary duplicates (if any)\n",
    "df.drop_duplicates(subset=['essay_id'], inplace=True)\n",
    "\n",
    "# Check structure\n",
    "print(df.columns)\n",
    "print(df.shape)\n"
   ]
  },
  {
   "cell_type": "code",
   "execution_count": 7,
   "id": "cf96d582",
   "metadata": {},
   "outputs": [],
   "source": [
    "def clean_text(text):\n",
    "    text = str(text)\n",
    "    text = text.lower()\n",
    "    text = re.sub(r'[^a-zA-Z0-9\\s]', '', text)  # Remove punctuation\n",
    "    text = re.sub(r'\\s+', ' ', text).strip()     # Remove extra whitespace\n",
    "    return text\n",
    "\n",
    "df['clean_essay'] = df['essay'].apply(clean_text)\n"
   ]
  },
  {
   "cell_type": "code",
   "execution_count": 8,
   "id": "5bef627f",
   "metadata": {},
   "outputs": [],
   "source": [
    "def compute_features(text):\n",
    "    words = word_tokenize(text)\n",
    "    sentences = sent_tokenize(text)\n",
    "    num_words = len(words)\n",
    "    num_sentences = len(sentences)\n",
    "    num_chars = len(text)\n",
    "    \n",
    "    avg_word_length = np.mean([len(w) for w in words]) if words else 0\n",
    "    words_per_sentence = num_words / num_sentences if num_sentences else 0\n",
    "    chars_per_word = num_chars / num_words if num_words else 0\n",
    "\n",
    "    return pd.Series([num_words, num_sentences, num_chars, avg_word_length, words_per_sentence, chars_per_word])\n",
    "\n",
    "df[['essay_length', 'sentence_count', 'char_length', 'avg_word_length', 'words_per_sentence', 'chars_per_word']] = df['clean_essay'].apply(compute_features)\n"
   ]
  },
  {
   "cell_type": "code",
   "execution_count": 9,
   "id": "c080cee0",
   "metadata": {},
   "outputs": [],
   "source": [
    "df = df[df['domain1_score'].notnull()]\n",
    "df['mean_score'] = df['domain1_score']  # You can average raters if needed, here we just use resolved score\n"
   ]
  },
  {
   "cell_type": "code",
   "execution_count": 10,
   "id": "15e2a9a2",
   "metadata": {},
   "outputs": [],
   "source": [
    "cols_to_drop = ['essay', 'rater1_domain1', 'rater2_domain1', 'rater3_domain1',\n",
    "                'rater1_domain2', 'rater2_domain2', 'domain2_score',\n",
    "                'rater1_trait1', 'rater1_trait2', 'rater1_trait3', 'rater1_trait4',\n",
    "                'rater1_trait5', 'rater1_trait6', 'rater2_trait1', 'rater2_trait2',\n",
    "                'rater2_trait3', 'rater2_trait4', 'rater2_trait5', 'rater2_trait6',\n",
    "                'rater3_trait1', 'rater3_trait2', 'rater3_trait3', 'rater3_trait4',\n",
    "                'rater3_trait5', 'rater3_trait6']\n",
    "df.drop(columns=cols_to_drop, inplace=True, errors='ignore')\n"
   ]
  },
  {
   "cell_type": "code",
   "execution_count": 11,
   "id": "c3f048a8",
   "metadata": {},
   "outputs": [],
   "source": [
    "scaler = MinMaxScaler()\n",
    "length_features = ['essay_length', 'sentence_count', 'char_length', 'avg_word_length', 'words_per_sentence', 'chars_per_word']\n",
    "\n",
    "df[length_features] = scaler.fit_transform(df[length_features])\n"
   ]
  },
  {
   "cell_type": "code",
   "execution_count": 12,
   "id": "25ed90f3",
   "metadata": {},
   "outputs": [
    {
     "name": "stdout",
     "output_type": "stream",
     "text": [
      "✅ Processed data saved to 'processed_essays.csv'\n"
     ]
    }
   ],
   "source": [
    "df.to_csv(\"processed_essays.csv\", index=False)\n",
    "print(\"✅ Processed data saved to 'processed_essays.csv'\")\n"
   ]
  }
 ],
 "metadata": {
  "kernelspec": {
   "display_name": "Python 3",
   "language": "python",
   "name": "python3"
  },
  "language_info": {
   "codemirror_mode": {
    "name": "ipython",
    "version": 3
   },
   "file_extension": ".py",
   "mimetype": "text/x-python",
   "name": "python",
   "nbconvert_exporter": "python",
   "pygments_lexer": "ipython3",
   "version": "3.12.6"
  }
 },
 "nbformat": 4,
 "nbformat_minor": 5
}
